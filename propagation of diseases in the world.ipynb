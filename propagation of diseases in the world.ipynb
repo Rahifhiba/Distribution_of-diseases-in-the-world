{
 "cells": [
  {
   "cell_type": "markdown",
   "metadata": {},
   "source": [
    "# Distribution of diseases in the world 🩺"
   ]
  },
  {
   "cell_type": "markdown",
   "metadata": {},
   "source": [
    "In this notebook we will study the propagation of diseases in the world in 2024\n",
    "\n",
    "Dataset source: [Global health statistics](https://www.kaggle.com/datasets/malaiarasugraj/global-health-statistics/data)"
   ]
  },
  {
   "cell_type": "markdown",
   "metadata": {},
   "source": [
    "- What are the most common diseases in each region of the world?\n",
    "- Are there significant differences in the prevalence of disease between developed and developing countries?\n",
    "- What is the average cost of treatment for different illnesses, and how does this vary from country to country?"
   ]
  },
  {
   "cell_type": "code",
   "execution_count": 1,
   "metadata": {},
   "outputs": [],
   "source": [
    "import pandas as pd\n",
    "import numpy as np\n",
    "import plotly.express as px\n",
    "import plotly.graph_objects as go\n",
    "import warnings\n",
    "import plotly.io as pio\n",
    "warnings.filterwarnings('ignore')\n",
    "pio.renderers.default = 'vscode'\n",
    "\n",
    "px.defaults.template = \"plotly_dark\""
   ]
  },
  {
   "cell_type": "markdown",
   "metadata": {},
   "source": [
    "Columns in the dataset:\n",
    "- **Country:** The name of the country where the health data was recorded.\n",
    "- **Year:** The year in which the data was collected.\n",
    "- **Disease Name:** The name of the disease or health condition tracked.\n",
    "- **Disease Category:** The category of the disease (e.g., Infectious, Non-Communicable).\n",
    "- **Prevalence Rate (%):** The percentage of the population affected by the disease.\n",
    "- **Incidence Rate (%):** The percentage of new or newly diagnosed cases.\n",
    "- **Mortality Rate (%):** The percentage of the affected population that dies from the disease.\n",
    "- **Age Group:** The age range most affected by the disease.\n",
    "- **Gender:** The gender(s) affected by the disease (Male, Female, Both).\n",
    "- **Population Affected:** The total number of individuals affected by the disease.\n",
    "- **Healthcare Access (%):** The percentage of the population with access to healthcare.\n",
    "- **Doctors per 1000:** The number of doctors per 1000 people.\n",
    "- **Hospital Beds per 1000:** The number of hospital beds available per 1000 people.\n",
    "- **Treatment Type:** The primary treatment method for the disease (e.g., Medication, Surgery).\n",
    "- **Average Treatment Cost (USD):** The average cost of treating the disease in USD.\n",
    "- **Availability of Vaccines/Treatment:** Whether vaccines or treatments are available.\n",
    "- **Recovery Rate (%):** The percentage of people who recover from the disease.\n",
    "- **DALYs:** Disability-Adjusted Life Years, a measure of disease burden.\n",
    "- **Improvement in 5 Years (%):** The improvement in disease outcomes over the last five years.\n",
    "- **Per Capita Income (USD):** The average income per person in the country.\n",
    "- **Education Index:** The average level of education in the country.\n",
    "- **Urbanization Rate (%):** The percentage of the population living in urban areas"
   ]
  },
  {
   "cell_type": "code",
   "execution_count": 2,
   "metadata": {},
   "outputs": [],
   "source": [
    "# import kagglehub\n",
    "\n",
    "# # Download latest version\n",
    "# path = kagglehub.dataset_download(\"malaiarasugraj/global-health-statistics\")\n",
    "\n",
    "# print(\"Path to dataset files:\", path)"
   ]
  },
  {
   "cell_type": "code",
   "execution_count": 3,
   "metadata": {},
   "outputs": [
    {
     "data": {
      "text/html": [
       "<div>\n",
       "<style scoped>\n",
       "    .dataframe tbody tr th:only-of-type {\n",
       "        vertical-align: middle;\n",
       "    }\n",
       "\n",
       "    .dataframe tbody tr th {\n",
       "        vertical-align: top;\n",
       "    }\n",
       "\n",
       "    .dataframe thead th {\n",
       "        text-align: right;\n",
       "    }\n",
       "</style>\n",
       "<table border=\"1\" class=\"dataframe\">\n",
       "  <thead>\n",
       "    <tr style=\"text-align: right;\">\n",
       "      <th></th>\n",
       "      <th>Country</th>\n",
       "      <th>Year</th>\n",
       "      <th>Disease Name</th>\n",
       "      <th>Disease Category</th>\n",
       "      <th>Prevalence Rate (%)</th>\n",
       "      <th>Incidence Rate (%)</th>\n",
       "      <th>Mortality Rate (%)</th>\n",
       "      <th>Age Group</th>\n",
       "      <th>Gender</th>\n",
       "      <th>Population Affected</th>\n",
       "      <th>...</th>\n",
       "      <th>Hospital Beds per 1000</th>\n",
       "      <th>Treatment Type</th>\n",
       "      <th>Average Treatment Cost (USD)</th>\n",
       "      <th>Availability of Vaccines/Treatment</th>\n",
       "      <th>Recovery Rate (%)</th>\n",
       "      <th>DALYs</th>\n",
       "      <th>Improvement in 5 Years (%)</th>\n",
       "      <th>Per Capita Income (USD)</th>\n",
       "      <th>Education Index</th>\n",
       "      <th>Urbanization Rate (%)</th>\n",
       "    </tr>\n",
       "  </thead>\n",
       "  <tbody>\n",
       "    <tr>\n",
       "      <th>0</th>\n",
       "      <td>Italy</td>\n",
       "      <td>2013</td>\n",
       "      <td>Malaria</td>\n",
       "      <td>Respiratory</td>\n",
       "      <td>0.95</td>\n",
       "      <td>1.55</td>\n",
       "      <td>8.42</td>\n",
       "      <td>0-18</td>\n",
       "      <td>Male</td>\n",
       "      <td>471007</td>\n",
       "      <td>...</td>\n",
       "      <td>7.58</td>\n",
       "      <td>Medication</td>\n",
       "      <td>21064</td>\n",
       "      <td>No</td>\n",
       "      <td>91.82</td>\n",
       "      <td>4493</td>\n",
       "      <td>2.16</td>\n",
       "      <td>16886</td>\n",
       "      <td>0.79</td>\n",
       "      <td>86.02</td>\n",
       "    </tr>\n",
       "    <tr>\n",
       "      <th>1</th>\n",
       "      <td>France</td>\n",
       "      <td>2002</td>\n",
       "      <td>Ebola</td>\n",
       "      <td>Parasitic</td>\n",
       "      <td>12.46</td>\n",
       "      <td>8.63</td>\n",
       "      <td>8.75</td>\n",
       "      <td>61+</td>\n",
       "      <td>Male</td>\n",
       "      <td>634318</td>\n",
       "      <td>...</td>\n",
       "      <td>5.11</td>\n",
       "      <td>Surgery</td>\n",
       "      <td>47851</td>\n",
       "      <td>Yes</td>\n",
       "      <td>76.65</td>\n",
       "      <td>2366</td>\n",
       "      <td>4.82</td>\n",
       "      <td>80639</td>\n",
       "      <td>0.74</td>\n",
       "      <td>45.52</td>\n",
       "    </tr>\n",
       "    <tr>\n",
       "      <th>2</th>\n",
       "      <td>Turkey</td>\n",
       "      <td>2015</td>\n",
       "      <td>COVID-19</td>\n",
       "      <td>Genetic</td>\n",
       "      <td>0.91</td>\n",
       "      <td>2.35</td>\n",
       "      <td>6.22</td>\n",
       "      <td>36-60</td>\n",
       "      <td>Male</td>\n",
       "      <td>154878</td>\n",
       "      <td>...</td>\n",
       "      <td>3.49</td>\n",
       "      <td>Vaccination</td>\n",
       "      <td>27834</td>\n",
       "      <td>Yes</td>\n",
       "      <td>98.55</td>\n",
       "      <td>41</td>\n",
       "      <td>5.81</td>\n",
       "      <td>12245</td>\n",
       "      <td>0.41</td>\n",
       "      <td>40.20</td>\n",
       "    </tr>\n",
       "    <tr>\n",
       "      <th>3</th>\n",
       "      <td>Indonesia</td>\n",
       "      <td>2011</td>\n",
       "      <td>Parkinson's Disease</td>\n",
       "      <td>Autoimmune</td>\n",
       "      <td>4.68</td>\n",
       "      <td>6.29</td>\n",
       "      <td>3.99</td>\n",
       "      <td>0-18</td>\n",
       "      <td>Other</td>\n",
       "      <td>446224</td>\n",
       "      <td>...</td>\n",
       "      <td>8.44</td>\n",
       "      <td>Surgery</td>\n",
       "      <td>144</td>\n",
       "      <td>Yes</td>\n",
       "      <td>67.35</td>\n",
       "      <td>3201</td>\n",
       "      <td>2.22</td>\n",
       "      <td>49336</td>\n",
       "      <td>0.49</td>\n",
       "      <td>58.47</td>\n",
       "    </tr>\n",
       "    <tr>\n",
       "      <th>4</th>\n",
       "      <td>Italy</td>\n",
       "      <td>2013</td>\n",
       "      <td>Tuberculosis</td>\n",
       "      <td>Genetic</td>\n",
       "      <td>0.83</td>\n",
       "      <td>13.59</td>\n",
       "      <td>7.01</td>\n",
       "      <td>61+</td>\n",
       "      <td>Male</td>\n",
       "      <td>472908</td>\n",
       "      <td>...</td>\n",
       "      <td>5.90</td>\n",
       "      <td>Medication</td>\n",
       "      <td>8908</td>\n",
       "      <td>Yes</td>\n",
       "      <td>50.06</td>\n",
       "      <td>2832</td>\n",
       "      <td>6.93</td>\n",
       "      <td>47701</td>\n",
       "      <td>0.50</td>\n",
       "      <td>48.14</td>\n",
       "    </tr>\n",
       "    <tr>\n",
       "      <th>...</th>\n",
       "      <td>...</td>\n",
       "      <td>...</td>\n",
       "      <td>...</td>\n",
       "      <td>...</td>\n",
       "      <td>...</td>\n",
       "      <td>...</td>\n",
       "      <td>...</td>\n",
       "      <td>...</td>\n",
       "      <td>...</td>\n",
       "      <td>...</td>\n",
       "      <td>...</td>\n",
       "      <td>...</td>\n",
       "      <td>...</td>\n",
       "      <td>...</td>\n",
       "      <td>...</td>\n",
       "      <td>...</td>\n",
       "      <td>...</td>\n",
       "      <td>...</td>\n",
       "      <td>...</td>\n",
       "      <td>...</td>\n",
       "      <td>...</td>\n",
       "    </tr>\n",
       "    <tr>\n",
       "      <th>999995</th>\n",
       "      <td>Saudi Arabia</td>\n",
       "      <td>2021</td>\n",
       "      <td>Parkinson's Disease</td>\n",
       "      <td>Infectious</td>\n",
       "      <td>4.56</td>\n",
       "      <td>4.83</td>\n",
       "      <td>9.65</td>\n",
       "      <td>0-18</td>\n",
       "      <td>Female</td>\n",
       "      <td>119332</td>\n",
       "      <td>...</td>\n",
       "      <td>4.23</td>\n",
       "      <td>Vaccination</td>\n",
       "      <td>4528</td>\n",
       "      <td>Yes</td>\n",
       "      <td>92.11</td>\n",
       "      <td>1024</td>\n",
       "      <td>3.88</td>\n",
       "      <td>29335</td>\n",
       "      <td>0.75</td>\n",
       "      <td>27.94</td>\n",
       "    </tr>\n",
       "    <tr>\n",
       "      <th>999996</th>\n",
       "      <td>Saudi Arabia</td>\n",
       "      <td>2013</td>\n",
       "      <td>Malaria</td>\n",
       "      <td>Respiratory</td>\n",
       "      <td>0.26</td>\n",
       "      <td>1.76</td>\n",
       "      <td>0.56</td>\n",
       "      <td>0-18</td>\n",
       "      <td>Female</td>\n",
       "      <td>354927</td>\n",
       "      <td>...</td>\n",
       "      <td>6.34</td>\n",
       "      <td>Surgery</td>\n",
       "      <td>20686</td>\n",
       "      <td>No</td>\n",
       "      <td>84.47</td>\n",
       "      <td>202</td>\n",
       "      <td>7.95</td>\n",
       "      <td>30752</td>\n",
       "      <td>0.47</td>\n",
       "      <td>77.66</td>\n",
       "    </tr>\n",
       "    <tr>\n",
       "      <th>999997</th>\n",
       "      <td>USA</td>\n",
       "      <td>2016</td>\n",
       "      <td>Zika</td>\n",
       "      <td>Respiratory</td>\n",
       "      <td>13.44</td>\n",
       "      <td>14.13</td>\n",
       "      <td>1.91</td>\n",
       "      <td>19-35</td>\n",
       "      <td>Other</td>\n",
       "      <td>807915</td>\n",
       "      <td>...</td>\n",
       "      <td>8.11</td>\n",
       "      <td>Therapy</td>\n",
       "      <td>18807</td>\n",
       "      <td>No</td>\n",
       "      <td>86.81</td>\n",
       "      <td>3338</td>\n",
       "      <td>7.31</td>\n",
       "      <td>62897</td>\n",
       "      <td>0.72</td>\n",
       "      <td>46.90</td>\n",
       "    </tr>\n",
       "    <tr>\n",
       "      <th>999998</th>\n",
       "      <td>Nigeria</td>\n",
       "      <td>2020</td>\n",
       "      <td>Asthma</td>\n",
       "      <td>Chronic</td>\n",
       "      <td>1.96</td>\n",
       "      <td>14.56</td>\n",
       "      <td>4.98</td>\n",
       "      <td>61+</td>\n",
       "      <td>Female</td>\n",
       "      <td>385896</td>\n",
       "      <td>...</td>\n",
       "      <td>6.91</td>\n",
       "      <td>Medication</td>\n",
       "      <td>21033</td>\n",
       "      <td>Yes</td>\n",
       "      <td>62.15</td>\n",
       "      <td>4806</td>\n",
       "      <td>3.82</td>\n",
       "      <td>98189</td>\n",
       "      <td>0.51</td>\n",
       "      <td>34.73</td>\n",
       "    </tr>\n",
       "    <tr>\n",
       "      <th>999999</th>\n",
       "      <td>Indonesia</td>\n",
       "      <td>2004</td>\n",
       "      <td>Asthma</td>\n",
       "      <td>Neurological</td>\n",
       "      <td>15.58</td>\n",
       "      <td>9.84</td>\n",
       "      <td>0.51</td>\n",
       "      <td>36-60</td>\n",
       "      <td>Other</td>\n",
       "      <td>632775</td>\n",
       "      <td>...</td>\n",
       "      <td>6.79</td>\n",
       "      <td>Therapy</td>\n",
       "      <td>505</td>\n",
       "      <td>Yes</td>\n",
       "      <td>77.23</td>\n",
       "      <td>3241</td>\n",
       "      <td>1.11</td>\n",
       "      <td>79640</td>\n",
       "      <td>0.42</td>\n",
       "      <td>78.51</td>\n",
       "    </tr>\n",
       "  </tbody>\n",
       "</table>\n",
       "<p>1000000 rows × 22 columns</p>\n",
       "</div>"
      ],
      "text/plain": [
       "             Country  Year         Disease Name Disease Category  \\\n",
       "0              Italy  2013              Malaria      Respiratory   \n",
       "1             France  2002                Ebola        Parasitic   \n",
       "2             Turkey  2015             COVID-19          Genetic   \n",
       "3          Indonesia  2011  Parkinson's Disease       Autoimmune   \n",
       "4              Italy  2013         Tuberculosis          Genetic   \n",
       "...              ...   ...                  ...              ...   \n",
       "999995  Saudi Arabia  2021  Parkinson's Disease       Infectious   \n",
       "999996  Saudi Arabia  2013              Malaria      Respiratory   \n",
       "999997           USA  2016                 Zika      Respiratory   \n",
       "999998       Nigeria  2020               Asthma          Chronic   \n",
       "999999     Indonesia  2004               Asthma     Neurological   \n",
       "\n",
       "        Prevalence Rate (%)  Incidence Rate (%)  Mortality Rate (%) Age Group  \\\n",
       "0                      0.95                1.55                8.42      0-18   \n",
       "1                     12.46                8.63                8.75       61+   \n",
       "2                      0.91                2.35                6.22     36-60   \n",
       "3                      4.68                6.29                3.99      0-18   \n",
       "4                      0.83               13.59                7.01       61+   \n",
       "...                     ...                 ...                 ...       ...   \n",
       "999995                 4.56                4.83                9.65      0-18   \n",
       "999996                 0.26                1.76                0.56      0-18   \n",
       "999997                13.44               14.13                1.91     19-35   \n",
       "999998                 1.96               14.56                4.98       61+   \n",
       "999999                15.58                9.84                0.51     36-60   \n",
       "\n",
       "        Gender  Population Affected  ...  Hospital Beds per 1000  \\\n",
       "0         Male               471007  ...                    7.58   \n",
       "1         Male               634318  ...                    5.11   \n",
       "2         Male               154878  ...                    3.49   \n",
       "3        Other               446224  ...                    8.44   \n",
       "4         Male               472908  ...                    5.90   \n",
       "...        ...                  ...  ...                     ...   \n",
       "999995  Female               119332  ...                    4.23   \n",
       "999996  Female               354927  ...                    6.34   \n",
       "999997   Other               807915  ...                    8.11   \n",
       "999998  Female               385896  ...                    6.91   \n",
       "999999   Other               632775  ...                    6.79   \n",
       "\n",
       "        Treatment Type  Average Treatment Cost (USD)  \\\n",
       "0           Medication                         21064   \n",
       "1              Surgery                         47851   \n",
       "2          Vaccination                         27834   \n",
       "3              Surgery                           144   \n",
       "4           Medication                          8908   \n",
       "...                ...                           ...   \n",
       "999995     Vaccination                          4528   \n",
       "999996         Surgery                         20686   \n",
       "999997         Therapy                         18807   \n",
       "999998      Medication                         21033   \n",
       "999999         Therapy                           505   \n",
       "\n",
       "       Availability of Vaccines/Treatment  Recovery Rate (%) DALYs  \\\n",
       "0                                      No              91.82  4493   \n",
       "1                                     Yes              76.65  2366   \n",
       "2                                     Yes              98.55    41   \n",
       "3                                     Yes              67.35  3201   \n",
       "4                                     Yes              50.06  2832   \n",
       "...                                   ...                ...   ...   \n",
       "999995                                Yes              92.11  1024   \n",
       "999996                                 No              84.47   202   \n",
       "999997                                 No              86.81  3338   \n",
       "999998                                Yes              62.15  4806   \n",
       "999999                                Yes              77.23  3241   \n",
       "\n",
       "        Improvement in 5 Years (%)  Per Capita Income (USD)  Education Index  \\\n",
       "0                             2.16                    16886             0.79   \n",
       "1                             4.82                    80639             0.74   \n",
       "2                             5.81                    12245             0.41   \n",
       "3                             2.22                    49336             0.49   \n",
       "4                             6.93                    47701             0.50   \n",
       "...                            ...                      ...              ...   \n",
       "999995                        3.88                    29335             0.75   \n",
       "999996                        7.95                    30752             0.47   \n",
       "999997                        7.31                    62897             0.72   \n",
       "999998                        3.82                    98189             0.51   \n",
       "999999                        1.11                    79640             0.42   \n",
       "\n",
       "        Urbanization Rate (%)  \n",
       "0                       86.02  \n",
       "1                       45.52  \n",
       "2                       40.20  \n",
       "3                       58.47  \n",
       "4                       48.14  \n",
       "...                       ...  \n",
       "999995                  27.94  \n",
       "999996                  77.66  \n",
       "999997                  46.90  \n",
       "999998                  34.73  \n",
       "999999                  78.51  \n",
       "\n",
       "[1000000 rows x 22 columns]"
      ]
     },
     "execution_count": 3,
     "metadata": {},
     "output_type": "execute_result"
    }
   ],
   "source": [
    "df = pd.read_csv(\"data/Global Health Statistics.csv\")\n",
    "df"
   ]
  },
  {
   "cell_type": "code",
   "execution_count": 4,
   "metadata": {},
   "outputs": [
    {
     "name": "stdout",
     "output_type": "stream",
     "text": [
      "<class 'pandas.core.frame.DataFrame'>\n",
      "RangeIndex: 1000000 entries, 0 to 999999\n",
      "Data columns (total 22 columns):\n",
      " #   Column                              Non-Null Count    Dtype  \n",
      "---  ------                              --------------    -----  \n",
      " 0   Country                             1000000 non-null  object \n",
      " 1   Year                                1000000 non-null  int64  \n",
      " 2   Disease Name                        1000000 non-null  object \n",
      " 3   Disease Category                    1000000 non-null  object \n",
      " 4   Prevalence Rate (%)                 1000000 non-null  float64\n",
      " 5   Incidence Rate (%)                  1000000 non-null  float64\n",
      " 6   Mortality Rate (%)                  1000000 non-null  float64\n",
      " 7   Age Group                           1000000 non-null  object \n",
      " 8   Gender                              1000000 non-null  object \n",
      " 9   Population Affected                 1000000 non-null  int64  \n",
      " 10  Healthcare Access (%)               1000000 non-null  float64\n",
      " 11  Doctors per 1000                    1000000 non-null  float64\n",
      " 12  Hospital Beds per 1000              1000000 non-null  float64\n",
      " 13  Treatment Type                      1000000 non-null  object \n",
      " 14  Average Treatment Cost (USD)        1000000 non-null  int64  \n",
      " 15  Availability of Vaccines/Treatment  1000000 non-null  object \n",
      " 16  Recovery Rate (%)                   1000000 non-null  float64\n",
      " 17  DALYs                               1000000 non-null  int64  \n",
      " 18  Improvement in 5 Years (%)          1000000 non-null  float64\n",
      " 19  Per Capita Income (USD)             1000000 non-null  int64  \n",
      " 20  Education Index                     1000000 non-null  float64\n",
      " 21  Urbanization Rate (%)               1000000 non-null  float64\n",
      "dtypes: float64(10), int64(5), object(7)\n",
      "memory usage: 167.8+ MB\n"
     ]
    }
   ],
   "source": [
    "df.info()"
   ]
  },
  {
   "cell_type": "code",
   "execution_count": 5,
   "metadata": {},
   "outputs": [
    {
     "data": {
      "text/html": [
       "<div>\n",
       "<style scoped>\n",
       "    .dataframe tbody tr th:only-of-type {\n",
       "        vertical-align: middle;\n",
       "    }\n",
       "\n",
       "    .dataframe tbody tr th {\n",
       "        vertical-align: top;\n",
       "    }\n",
       "\n",
       "    .dataframe thead th {\n",
       "        text-align: right;\n",
       "    }\n",
       "</style>\n",
       "<table border=\"1\" class=\"dataframe\">\n",
       "  <thead>\n",
       "    <tr style=\"text-align: right;\">\n",
       "      <th></th>\n",
       "      <th>Year</th>\n",
       "      <th>Prevalence Rate (%)</th>\n",
       "      <th>Incidence Rate (%)</th>\n",
       "      <th>Mortality Rate (%)</th>\n",
       "      <th>Population Affected</th>\n",
       "      <th>Healthcare Access (%)</th>\n",
       "      <th>Doctors per 1000</th>\n",
       "      <th>Hospital Beds per 1000</th>\n",
       "      <th>Average Treatment Cost (USD)</th>\n",
       "      <th>Recovery Rate (%)</th>\n",
       "      <th>DALYs</th>\n",
       "      <th>Improvement in 5 Years (%)</th>\n",
       "      <th>Per Capita Income (USD)</th>\n",
       "      <th>Education Index</th>\n",
       "      <th>Urbanization Rate (%)</th>\n",
       "    </tr>\n",
       "  </thead>\n",
       "  <tbody>\n",
       "    <tr>\n",
       "      <th>count</th>\n",
       "      <td>1000000.000000</td>\n",
       "      <td>1000000.000000</td>\n",
       "      <td>1000000.000000</td>\n",
       "      <td>1000000.000000</td>\n",
       "      <td>1000000.000000</td>\n",
       "      <td>1000000.000000</td>\n",
       "      <td>1000000.000000</td>\n",
       "      <td>1000000.000000</td>\n",
       "      <td>1000000.000000</td>\n",
       "      <td>1000000.000000</td>\n",
       "      <td>1000000.000000</td>\n",
       "      <td>1000000.000000</td>\n",
       "      <td>1000000.000000</td>\n",
       "      <td>1000000.000000</td>\n",
       "      <td>1000000.000000</td>\n",
       "    </tr>\n",
       "    <tr>\n",
       "      <th>mean</th>\n",
       "      <td>2011.996999</td>\n",
       "      <td>10.047992</td>\n",
       "      <td>7.555005</td>\n",
       "      <td>5.049919</td>\n",
       "      <td>500735.427363</td>\n",
       "      <td>74.987835</td>\n",
       "      <td>2.747929</td>\n",
       "      <td>5.245931</td>\n",
       "      <td>25010.313665</td>\n",
       "      <td>74.496934</td>\n",
       "      <td>2499.144809</td>\n",
       "      <td>5.002593</td>\n",
       "      <td>50311.099835</td>\n",
       "      <td>0.650069</td>\n",
       "      <td>54.985212</td>\n",
       "    </tr>\n",
       "    <tr>\n",
       "      <th>std</th>\n",
       "      <td>7.217287</td>\n",
       "      <td>5.740189</td>\n",
       "      <td>4.298947</td>\n",
       "      <td>2.859427</td>\n",
       "      <td>288660.116648</td>\n",
       "      <td>14.436345</td>\n",
       "      <td>1.299067</td>\n",
       "      <td>2.742865</td>\n",
       "      <td>14402.279227</td>\n",
       "      <td>14.155168</td>\n",
       "      <td>1443.923798</td>\n",
       "      <td>2.888298</td>\n",
       "      <td>28726.959359</td>\n",
       "      <td>0.144472</td>\n",
       "      <td>20.214042</td>\n",
       "    </tr>\n",
       "    <tr>\n",
       "      <th>min</th>\n",
       "      <td>2000.000000</td>\n",
       "      <td>0.100000</td>\n",
       "      <td>0.100000</td>\n",
       "      <td>0.100000</td>\n",
       "      <td>1000.000000</td>\n",
       "      <td>50.000000</td>\n",
       "      <td>0.500000</td>\n",
       "      <td>0.500000</td>\n",
       "      <td>100.000000</td>\n",
       "      <td>50.000000</td>\n",
       "      <td>1.000000</td>\n",
       "      <td>0.000000</td>\n",
       "      <td>500.000000</td>\n",
       "      <td>0.400000</td>\n",
       "      <td>20.000000</td>\n",
       "    </tr>\n",
       "    <tr>\n",
       "      <th>25%</th>\n",
       "      <td>2006.000000</td>\n",
       "      <td>5.090000</td>\n",
       "      <td>3.840000</td>\n",
       "      <td>2.580000</td>\n",
       "      <td>250491.250000</td>\n",
       "      <td>62.470000</td>\n",
       "      <td>1.620000</td>\n",
       "      <td>2.870000</td>\n",
       "      <td>12538.000000</td>\n",
       "      <td>62.220000</td>\n",
       "      <td>1245.000000</td>\n",
       "      <td>2.500000</td>\n",
       "      <td>25457.000000</td>\n",
       "      <td>0.530000</td>\n",
       "      <td>37.470000</td>\n",
       "    </tr>\n",
       "    <tr>\n",
       "      <th>50%</th>\n",
       "      <td>2012.000000</td>\n",
       "      <td>10.040000</td>\n",
       "      <td>7.550000</td>\n",
       "      <td>5.050000</td>\n",
       "      <td>501041.000000</td>\n",
       "      <td>75.000000</td>\n",
       "      <td>2.750000</td>\n",
       "      <td>5.240000</td>\n",
       "      <td>24980.000000</td>\n",
       "      <td>74.470000</td>\n",
       "      <td>2499.000000</td>\n",
       "      <td>5.000000</td>\n",
       "      <td>50372.000000</td>\n",
       "      <td>0.650000</td>\n",
       "      <td>54.980000</td>\n",
       "    </tr>\n",
       "    <tr>\n",
       "      <th>75%</th>\n",
       "      <td>2018.000000</td>\n",
       "      <td>15.010000</td>\n",
       "      <td>11.280000</td>\n",
       "      <td>7.530000</td>\n",
       "      <td>750782.000000</td>\n",
       "      <td>87.490000</td>\n",
       "      <td>3.870000</td>\n",
       "      <td>7.620000</td>\n",
       "      <td>37493.000000</td>\n",
       "      <td>86.780000</td>\n",
       "      <td>3750.000000</td>\n",
       "      <td>7.510000</td>\n",
       "      <td>75195.000000</td>\n",
       "      <td>0.780000</td>\n",
       "      <td>72.510000</td>\n",
       "    </tr>\n",
       "    <tr>\n",
       "      <th>max</th>\n",
       "      <td>2024.000000</td>\n",
       "      <td>20.000000</td>\n",
       "      <td>15.000000</td>\n",
       "      <td>10.000000</td>\n",
       "      <td>1000000.000000</td>\n",
       "      <td>100.000000</td>\n",
       "      <td>5.000000</td>\n",
       "      <td>10.000000</td>\n",
       "      <td>50000.000000</td>\n",
       "      <td>99.000000</td>\n",
       "      <td>5000.000000</td>\n",
       "      <td>10.000000</td>\n",
       "      <td>100000.000000</td>\n",
       "      <td>0.900000</td>\n",
       "      <td>90.000000</td>\n",
       "    </tr>\n",
       "  </tbody>\n",
       "</table>\n",
       "</div>"
      ],
      "text/plain": [
       "                 Year  Prevalence Rate (%)  Incidence Rate (%)  \\\n",
       "count  1000000.000000       1000000.000000      1000000.000000   \n",
       "mean      2011.996999            10.047992            7.555005   \n",
       "std          7.217287             5.740189            4.298947   \n",
       "min       2000.000000             0.100000            0.100000   \n",
       "25%       2006.000000             5.090000            3.840000   \n",
       "50%       2012.000000            10.040000            7.550000   \n",
       "75%       2018.000000            15.010000           11.280000   \n",
       "max       2024.000000            20.000000           15.000000   \n",
       "\n",
       "       Mortality Rate (%)  Population Affected  Healthcare Access (%)  \\\n",
       "count      1000000.000000       1000000.000000         1000000.000000   \n",
       "mean             5.049919        500735.427363              74.987835   \n",
       "std              2.859427        288660.116648              14.436345   \n",
       "min              0.100000          1000.000000              50.000000   \n",
       "25%              2.580000        250491.250000              62.470000   \n",
       "50%              5.050000        501041.000000              75.000000   \n",
       "75%              7.530000        750782.000000              87.490000   \n",
       "max             10.000000       1000000.000000             100.000000   \n",
       "\n",
       "       Doctors per 1000  Hospital Beds per 1000  Average Treatment Cost (USD)  \\\n",
       "count    1000000.000000          1000000.000000                1000000.000000   \n",
       "mean           2.747929                5.245931                  25010.313665   \n",
       "std            1.299067                2.742865                  14402.279227   \n",
       "min            0.500000                0.500000                    100.000000   \n",
       "25%            1.620000                2.870000                  12538.000000   \n",
       "50%            2.750000                5.240000                  24980.000000   \n",
       "75%            3.870000                7.620000                  37493.000000   \n",
       "max            5.000000               10.000000                  50000.000000   \n",
       "\n",
       "       Recovery Rate (%)           DALYs  Improvement in 5 Years (%)  \\\n",
       "count     1000000.000000  1000000.000000              1000000.000000   \n",
       "mean           74.496934     2499.144809                    5.002593   \n",
       "std            14.155168     1443.923798                    2.888298   \n",
       "min            50.000000        1.000000                    0.000000   \n",
       "25%            62.220000     1245.000000                    2.500000   \n",
       "50%            74.470000     2499.000000                    5.000000   \n",
       "75%            86.780000     3750.000000                    7.510000   \n",
       "max            99.000000     5000.000000                   10.000000   \n",
       "\n",
       "       Per Capita Income (USD)  Education Index  Urbanization Rate (%)  \n",
       "count           1000000.000000   1000000.000000         1000000.000000  \n",
       "mean              50311.099835         0.650069              54.985212  \n",
       "std               28726.959359         0.144472              20.214042  \n",
       "min                 500.000000         0.400000              20.000000  \n",
       "25%               25457.000000         0.530000              37.470000  \n",
       "50%               50372.000000         0.650000              54.980000  \n",
       "75%               75195.000000         0.780000              72.510000  \n",
       "max              100000.000000         0.900000              90.000000  "
      ]
     },
     "execution_count": 5,
     "metadata": {},
     "output_type": "execute_result"
    }
   ],
   "source": [
    "df.describe()"
   ]
  },
  {
   "cell_type": "code",
   "execution_count": 6,
   "metadata": {},
   "outputs": [
    {
     "data": {
      "text/plain": [
       "Country                               0\n",
       "Year                                  0\n",
       "Disease Name                          0\n",
       "Disease Category                      0\n",
       "Prevalence Rate (%)                   0\n",
       "Incidence Rate (%)                    0\n",
       "Mortality Rate (%)                    0\n",
       "Age Group                             0\n",
       "Gender                                0\n",
       "Population Affected                   0\n",
       "Healthcare Access (%)                 0\n",
       "Doctors per 1000                      0\n",
       "Hospital Beds per 1000                0\n",
       "Treatment Type                        0\n",
       "Average Treatment Cost (USD)          0\n",
       "Availability of Vaccines/Treatment    0\n",
       "Recovery Rate (%)                     0\n",
       "DALYs                                 0\n",
       "Improvement in 5 Years (%)            0\n",
       "Per Capita Income (USD)               0\n",
       "Education Index                       0\n",
       "Urbanization Rate (%)                 0\n",
       "dtype: int64"
      ]
     },
     "execution_count": 6,
     "metadata": {},
     "output_type": "execute_result"
    }
   ],
   "source": [
    "df.isna().sum()"
   ]
  },
  {
   "cell_type": "code",
   "execution_count": 7,
   "metadata": {},
   "outputs": [],
   "source": [
    "df_24 = df[df[\"Year\"] == 2024]"
   ]
  },
  {
   "cell_type": "code",
   "execution_count": 8,
   "metadata": {},
   "outputs": [
    {
     "data": {
      "text/html": [
       "<div>\n",
       "<style scoped>\n",
       "    .dataframe tbody tr th:only-of-type {\n",
       "        vertical-align: middle;\n",
       "    }\n",
       "\n",
       "    .dataframe tbody tr th {\n",
       "        vertical-align: top;\n",
       "    }\n",
       "\n",
       "    .dataframe thead th {\n",
       "        text-align: right;\n",
       "    }\n",
       "</style>\n",
       "<table border=\"1\" class=\"dataframe\">\n",
       "  <thead>\n",
       "    <tr style=\"text-align: right;\">\n",
       "      <th></th>\n",
       "      <th>Country</th>\n",
       "      <th>Year</th>\n",
       "      <th>Disease Name</th>\n",
       "      <th>Disease Category</th>\n",
       "      <th>Prevalence Rate (%)</th>\n",
       "      <th>Incidence Rate (%)</th>\n",
       "      <th>Mortality Rate (%)</th>\n",
       "      <th>Age Group</th>\n",
       "      <th>Gender</th>\n",
       "      <th>Population Affected</th>\n",
       "      <th>...</th>\n",
       "      <th>Hospital Beds per 1000</th>\n",
       "      <th>Treatment Type</th>\n",
       "      <th>Average Treatment Cost (USD)</th>\n",
       "      <th>Availability of Vaccines/Treatment</th>\n",
       "      <th>Recovery Rate (%)</th>\n",
       "      <th>DALYs</th>\n",
       "      <th>Improvement in 5 Years (%)</th>\n",
       "      <th>Per Capita Income (USD)</th>\n",
       "      <th>Education Index</th>\n",
       "      <th>Urbanization Rate (%)</th>\n",
       "    </tr>\n",
       "  </thead>\n",
       "  <tbody>\n",
       "    <tr>\n",
       "      <th>15</th>\n",
       "      <td>USA</td>\n",
       "      <td>2024</td>\n",
       "      <td>Dengue</td>\n",
       "      <td>Viral</td>\n",
       "      <td>1.82</td>\n",
       "      <td>2.98</td>\n",
       "      <td>7.01</td>\n",
       "      <td>36-60</td>\n",
       "      <td>Female</td>\n",
       "      <td>623844</td>\n",
       "      <td>...</td>\n",
       "      <td>9.72</td>\n",
       "      <td>Medication</td>\n",
       "      <td>4664</td>\n",
       "      <td>No</td>\n",
       "      <td>87.75</td>\n",
       "      <td>484</td>\n",
       "      <td>8.11</td>\n",
       "      <td>56179</td>\n",
       "      <td>0.63</td>\n",
       "      <td>29.00</td>\n",
       "    </tr>\n",
       "    <tr>\n",
       "      <th>54</th>\n",
       "      <td>Argentina</td>\n",
       "      <td>2024</td>\n",
       "      <td>Cancer</td>\n",
       "      <td>Parasitic</td>\n",
       "      <td>10.94</td>\n",
       "      <td>12.88</td>\n",
       "      <td>6.25</td>\n",
       "      <td>61+</td>\n",
       "      <td>Female</td>\n",
       "      <td>419192</td>\n",
       "      <td>...</td>\n",
       "      <td>5.36</td>\n",
       "      <td>Medication</td>\n",
       "      <td>16363</td>\n",
       "      <td>Yes</td>\n",
       "      <td>72.52</td>\n",
       "      <td>1274</td>\n",
       "      <td>5.36</td>\n",
       "      <td>9633</td>\n",
       "      <td>0.51</td>\n",
       "      <td>37.11</td>\n",
       "    </tr>\n",
       "    <tr>\n",
       "      <th>69</th>\n",
       "      <td>Australia</td>\n",
       "      <td>2024</td>\n",
       "      <td>Measles</td>\n",
       "      <td>Genetic</td>\n",
       "      <td>5.88</td>\n",
       "      <td>12.37</td>\n",
       "      <td>4.73</td>\n",
       "      <td>36-60</td>\n",
       "      <td>Other</td>\n",
       "      <td>767034</td>\n",
       "      <td>...</td>\n",
       "      <td>6.73</td>\n",
       "      <td>Surgery</td>\n",
       "      <td>33829</td>\n",
       "      <td>No</td>\n",
       "      <td>75.40</td>\n",
       "      <td>2921</td>\n",
       "      <td>7.85</td>\n",
       "      <td>50348</td>\n",
       "      <td>0.87</td>\n",
       "      <td>56.51</td>\n",
       "    </tr>\n",
       "    <tr>\n",
       "      <th>79</th>\n",
       "      <td>Brazil</td>\n",
       "      <td>2024</td>\n",
       "      <td>Diabetes</td>\n",
       "      <td>Genetic</td>\n",
       "      <td>0.73</td>\n",
       "      <td>9.28</td>\n",
       "      <td>1.09</td>\n",
       "      <td>19-35</td>\n",
       "      <td>Male</td>\n",
       "      <td>4233</td>\n",
       "      <td>...</td>\n",
       "      <td>3.10</td>\n",
       "      <td>Therapy</td>\n",
       "      <td>2078</td>\n",
       "      <td>No</td>\n",
       "      <td>61.80</td>\n",
       "      <td>386</td>\n",
       "      <td>3.23</td>\n",
       "      <td>73287</td>\n",
       "      <td>0.74</td>\n",
       "      <td>25.44</td>\n",
       "    </tr>\n",
       "    <tr>\n",
       "      <th>109</th>\n",
       "      <td>Saudi Arabia</td>\n",
       "      <td>2024</td>\n",
       "      <td>Malaria</td>\n",
       "      <td>Chronic</td>\n",
       "      <td>13.40</td>\n",
       "      <td>11.44</td>\n",
       "      <td>9.59</td>\n",
       "      <td>61+</td>\n",
       "      <td>Other</td>\n",
       "      <td>259325</td>\n",
       "      <td>...</td>\n",
       "      <td>5.84</td>\n",
       "      <td>Surgery</td>\n",
       "      <td>14273</td>\n",
       "      <td>Yes</td>\n",
       "      <td>90.56</td>\n",
       "      <td>4937</td>\n",
       "      <td>7.20</td>\n",
       "      <td>78046</td>\n",
       "      <td>0.64</td>\n",
       "      <td>70.02</td>\n",
       "    </tr>\n",
       "    <tr>\n",
       "      <th>...</th>\n",
       "      <td>...</td>\n",
       "      <td>...</td>\n",
       "      <td>...</td>\n",
       "      <td>...</td>\n",
       "      <td>...</td>\n",
       "      <td>...</td>\n",
       "      <td>...</td>\n",
       "      <td>...</td>\n",
       "      <td>...</td>\n",
       "      <td>...</td>\n",
       "      <td>...</td>\n",
       "      <td>...</td>\n",
       "      <td>...</td>\n",
       "      <td>...</td>\n",
       "      <td>...</td>\n",
       "      <td>...</td>\n",
       "      <td>...</td>\n",
       "      <td>...</td>\n",
       "      <td>...</td>\n",
       "      <td>...</td>\n",
       "      <td>...</td>\n",
       "    </tr>\n",
       "    <tr>\n",
       "      <th>999968</th>\n",
       "      <td>USA</td>\n",
       "      <td>2024</td>\n",
       "      <td>COVID-19</td>\n",
       "      <td>Infectious</td>\n",
       "      <td>10.56</td>\n",
       "      <td>8.92</td>\n",
       "      <td>3.10</td>\n",
       "      <td>61+</td>\n",
       "      <td>Other</td>\n",
       "      <td>509069</td>\n",
       "      <td>...</td>\n",
       "      <td>8.08</td>\n",
       "      <td>Therapy</td>\n",
       "      <td>25536</td>\n",
       "      <td>No</td>\n",
       "      <td>72.12</td>\n",
       "      <td>1448</td>\n",
       "      <td>5.01</td>\n",
       "      <td>69574</td>\n",
       "      <td>0.55</td>\n",
       "      <td>84.37</td>\n",
       "    </tr>\n",
       "    <tr>\n",
       "      <th>999969</th>\n",
       "      <td>Japan</td>\n",
       "      <td>2024</td>\n",
       "      <td>Diabetes</td>\n",
       "      <td>Neurological</td>\n",
       "      <td>15.19</td>\n",
       "      <td>2.93</td>\n",
       "      <td>7.38</td>\n",
       "      <td>19-35</td>\n",
       "      <td>Male</td>\n",
       "      <td>481945</td>\n",
       "      <td>...</td>\n",
       "      <td>6.31</td>\n",
       "      <td>Medication</td>\n",
       "      <td>11078</td>\n",
       "      <td>Yes</td>\n",
       "      <td>94.54</td>\n",
       "      <td>3645</td>\n",
       "      <td>2.29</td>\n",
       "      <td>24648</td>\n",
       "      <td>0.64</td>\n",
       "      <td>89.87</td>\n",
       "    </tr>\n",
       "    <tr>\n",
       "      <th>999971</th>\n",
       "      <td>Saudi Arabia</td>\n",
       "      <td>2024</td>\n",
       "      <td>Influenza</td>\n",
       "      <td>Genetic</td>\n",
       "      <td>3.67</td>\n",
       "      <td>1.80</td>\n",
       "      <td>0.79</td>\n",
       "      <td>19-35</td>\n",
       "      <td>Other</td>\n",
       "      <td>85928</td>\n",
       "      <td>...</td>\n",
       "      <td>7.15</td>\n",
       "      <td>Surgery</td>\n",
       "      <td>32179</td>\n",
       "      <td>No</td>\n",
       "      <td>51.51</td>\n",
       "      <td>3847</td>\n",
       "      <td>9.96</td>\n",
       "      <td>64922</td>\n",
       "      <td>0.65</td>\n",
       "      <td>46.94</td>\n",
       "    </tr>\n",
       "    <tr>\n",
       "      <th>999987</th>\n",
       "      <td>Mexico</td>\n",
       "      <td>2024</td>\n",
       "      <td>Hypertension</td>\n",
       "      <td>Respiratory</td>\n",
       "      <td>0.50</td>\n",
       "      <td>10.19</td>\n",
       "      <td>8.58</td>\n",
       "      <td>61+</td>\n",
       "      <td>Other</td>\n",
       "      <td>38627</td>\n",
       "      <td>...</td>\n",
       "      <td>3.28</td>\n",
       "      <td>Therapy</td>\n",
       "      <td>44642</td>\n",
       "      <td>No</td>\n",
       "      <td>70.08</td>\n",
       "      <td>834</td>\n",
       "      <td>2.57</td>\n",
       "      <td>87011</td>\n",
       "      <td>0.88</td>\n",
       "      <td>53.96</td>\n",
       "    </tr>\n",
       "    <tr>\n",
       "      <th>999994</th>\n",
       "      <td>Turkey</td>\n",
       "      <td>2024</td>\n",
       "      <td>Ebola</td>\n",
       "      <td>Autoimmune</td>\n",
       "      <td>6.45</td>\n",
       "      <td>4.06</td>\n",
       "      <td>3.46</td>\n",
       "      <td>61+</td>\n",
       "      <td>Male</td>\n",
       "      <td>380714</td>\n",
       "      <td>...</td>\n",
       "      <td>4.83</td>\n",
       "      <td>Medication</td>\n",
       "      <td>34450</td>\n",
       "      <td>No</td>\n",
       "      <td>53.59</td>\n",
       "      <td>1417</td>\n",
       "      <td>6.30</td>\n",
       "      <td>60189</td>\n",
       "      <td>0.57</td>\n",
       "      <td>63.74</td>\n",
       "    </tr>\n",
       "  </tbody>\n",
       "</table>\n",
       "<p>40003 rows × 22 columns</p>\n",
       "</div>"
      ],
      "text/plain": [
       "             Country  Year  Disease Name Disease Category  \\\n",
       "15               USA  2024        Dengue            Viral   \n",
       "54         Argentina  2024        Cancer        Parasitic   \n",
       "69         Australia  2024       Measles          Genetic   \n",
       "79            Brazil  2024      Diabetes          Genetic   \n",
       "109     Saudi Arabia  2024       Malaria          Chronic   \n",
       "...              ...   ...           ...              ...   \n",
       "999968           USA  2024      COVID-19       Infectious   \n",
       "999969         Japan  2024      Diabetes     Neurological   \n",
       "999971  Saudi Arabia  2024     Influenza          Genetic   \n",
       "999987        Mexico  2024  Hypertension      Respiratory   \n",
       "999994        Turkey  2024         Ebola       Autoimmune   \n",
       "\n",
       "        Prevalence Rate (%)  Incidence Rate (%)  Mortality Rate (%) Age Group  \\\n",
       "15                     1.82                2.98                7.01     36-60   \n",
       "54                    10.94               12.88                6.25       61+   \n",
       "69                     5.88               12.37                4.73     36-60   \n",
       "79                     0.73                9.28                1.09     19-35   \n",
       "109                   13.40               11.44                9.59       61+   \n",
       "...                     ...                 ...                 ...       ...   \n",
       "999968                10.56                8.92                3.10       61+   \n",
       "999969                15.19                2.93                7.38     19-35   \n",
       "999971                 3.67                1.80                0.79     19-35   \n",
       "999987                 0.50               10.19                8.58       61+   \n",
       "999994                 6.45                4.06                3.46       61+   \n",
       "\n",
       "        Gender  Population Affected  ...  Hospital Beds per 1000  \\\n",
       "15      Female               623844  ...                    9.72   \n",
       "54      Female               419192  ...                    5.36   \n",
       "69       Other               767034  ...                    6.73   \n",
       "79        Male                 4233  ...                    3.10   \n",
       "109      Other               259325  ...                    5.84   \n",
       "...        ...                  ...  ...                     ...   \n",
       "999968   Other               509069  ...                    8.08   \n",
       "999969    Male               481945  ...                    6.31   \n",
       "999971   Other                85928  ...                    7.15   \n",
       "999987   Other                38627  ...                    3.28   \n",
       "999994    Male               380714  ...                    4.83   \n",
       "\n",
       "        Treatment Type  Average Treatment Cost (USD)  \\\n",
       "15          Medication                          4664   \n",
       "54          Medication                         16363   \n",
       "69             Surgery                         33829   \n",
       "79             Therapy                          2078   \n",
       "109            Surgery                         14273   \n",
       "...                ...                           ...   \n",
       "999968         Therapy                         25536   \n",
       "999969      Medication                         11078   \n",
       "999971         Surgery                         32179   \n",
       "999987         Therapy                         44642   \n",
       "999994      Medication                         34450   \n",
       "\n",
       "       Availability of Vaccines/Treatment  Recovery Rate (%) DALYs  \\\n",
       "15                                     No              87.75   484   \n",
       "54                                    Yes              72.52  1274   \n",
       "69                                     No              75.40  2921   \n",
       "79                                     No              61.80   386   \n",
       "109                                   Yes              90.56  4937   \n",
       "...                                   ...                ...   ...   \n",
       "999968                                 No              72.12  1448   \n",
       "999969                                Yes              94.54  3645   \n",
       "999971                                 No              51.51  3847   \n",
       "999987                                 No              70.08   834   \n",
       "999994                                 No              53.59  1417   \n",
       "\n",
       "        Improvement in 5 Years (%)  Per Capita Income (USD)  Education Index  \\\n",
       "15                            8.11                    56179             0.63   \n",
       "54                            5.36                     9633             0.51   \n",
       "69                            7.85                    50348             0.87   \n",
       "79                            3.23                    73287             0.74   \n",
       "109                           7.20                    78046             0.64   \n",
       "...                            ...                      ...              ...   \n",
       "999968                        5.01                    69574             0.55   \n",
       "999969                        2.29                    24648             0.64   \n",
       "999971                        9.96                    64922             0.65   \n",
       "999987                        2.57                    87011             0.88   \n",
       "999994                        6.30                    60189             0.57   \n",
       "\n",
       "        Urbanization Rate (%)  \n",
       "15                      29.00  \n",
       "54                      37.11  \n",
       "69                      56.51  \n",
       "79                      25.44  \n",
       "109                     70.02  \n",
       "...                       ...  \n",
       "999968                  84.37  \n",
       "999969                  89.87  \n",
       "999971                  46.94  \n",
       "999987                  53.96  \n",
       "999994                  63.74  \n",
       "\n",
       "[40003 rows x 22 columns]"
      ]
     },
     "execution_count": 8,
     "metadata": {},
     "output_type": "execute_result"
    }
   ],
   "source": [
    "df_24"
   ]
  },
  {
   "cell_type": "code",
   "execution_count": 17,
   "metadata": {},
   "outputs": [
    {
     "data": {
      "text/plain": [
       "array(['USA', 'Argentina', 'Australia', 'Brazil', 'Saudi Arabia',\n",
       "       'South Korea', 'Mexico', 'China', 'Japan', 'Turkey', 'France',\n",
       "       'India', 'Nigeria', 'UK', 'Germany', 'Indonesia', 'Russia',\n",
       "       'South Africa', 'Canada', 'Italy'], dtype=object)"
      ]
     },
     "execution_count": 17,
     "metadata": {},
     "output_type": "execute_result"
    }
   ],
   "source": [
    "df_24['Country'].unique()"
   ]
  },
  {
   "cell_type": "code",
   "execution_count": 10,
   "metadata": {},
   "outputs": [
    {
     "data": {
      "text/plain": [
       "array(['36-60', '61+', '19-35', '0-18'], dtype=object)"
      ]
     },
     "execution_count": 10,
     "metadata": {},
     "output_type": "execute_result"
    }
   ],
   "source": [
    "df_24['Age Group'].unique()"
   ]
  },
  {
   "cell_type": "code",
   "execution_count": 11,
   "metadata": {},
   "outputs": [
    {
     "data": {
      "text/html": [
       "<div>\n",
       "<style scoped>\n",
       "    .dataframe tbody tr th:only-of-type {\n",
       "        vertical-align: middle;\n",
       "    }\n",
       "\n",
       "    .dataframe tbody tr th {\n",
       "        vertical-align: top;\n",
       "    }\n",
       "\n",
       "    .dataframe thead th {\n",
       "        text-align: right;\n",
       "    }\n",
       "</style>\n",
       "<table border=\"1\" class=\"dataframe\">\n",
       "  <thead>\n",
       "    <tr style=\"text-align: right;\">\n",
       "      <th></th>\n",
       "      <th>Country</th>\n",
       "      <th>Year</th>\n",
       "      <th>Disease Name</th>\n",
       "      <th>Disease Category</th>\n",
       "      <th>Prevalence Rate (%)</th>\n",
       "      <th>Incidence Rate (%)</th>\n",
       "      <th>Mortality Rate (%)</th>\n",
       "      <th>Age Group</th>\n",
       "      <th>Gender</th>\n",
       "      <th>Population Affected</th>\n",
       "      <th>...</th>\n",
       "      <th>Treatment Type</th>\n",
       "      <th>Average Treatment Cost (USD)</th>\n",
       "      <th>Availability of Vaccines/Treatment</th>\n",
       "      <th>Recovery Rate (%)</th>\n",
       "      <th>DALYs</th>\n",
       "      <th>Improvement in 5 Years (%)</th>\n",
       "      <th>Per Capita Income (USD)</th>\n",
       "      <th>Education Index</th>\n",
       "      <th>Urbanization Rate (%)</th>\n",
       "      <th>Age Group labels</th>\n",
       "    </tr>\n",
       "  </thead>\n",
       "  <tbody>\n",
       "    <tr>\n",
       "      <th>15</th>\n",
       "      <td>USA</td>\n",
       "      <td>2024</td>\n",
       "      <td>Dengue</td>\n",
       "      <td>Viral</td>\n",
       "      <td>1.82</td>\n",
       "      <td>2.98</td>\n",
       "      <td>7.01</td>\n",
       "      <td>36-60</td>\n",
       "      <td>Female</td>\n",
       "      <td>623844</td>\n",
       "      <td>...</td>\n",
       "      <td>Medication</td>\n",
       "      <td>4664</td>\n",
       "      <td>No</td>\n",
       "      <td>87.75</td>\n",
       "      <td>484</td>\n",
       "      <td>8.11</td>\n",
       "      <td>56179</td>\n",
       "      <td>0.63</td>\n",
       "      <td>29.00</td>\n",
       "      <td>adults</td>\n",
       "    </tr>\n",
       "    <tr>\n",
       "      <th>54</th>\n",
       "      <td>Argentina</td>\n",
       "      <td>2024</td>\n",
       "      <td>Cancer</td>\n",
       "      <td>Parasitic</td>\n",
       "      <td>10.94</td>\n",
       "      <td>12.88</td>\n",
       "      <td>6.25</td>\n",
       "      <td>61+</td>\n",
       "      <td>Female</td>\n",
       "      <td>419192</td>\n",
       "      <td>...</td>\n",
       "      <td>Medication</td>\n",
       "      <td>16363</td>\n",
       "      <td>Yes</td>\n",
       "      <td>72.52</td>\n",
       "      <td>1274</td>\n",
       "      <td>5.36</td>\n",
       "      <td>9633</td>\n",
       "      <td>0.51</td>\n",
       "      <td>37.11</td>\n",
       "      <td>seniors</td>\n",
       "    </tr>\n",
       "    <tr>\n",
       "      <th>69</th>\n",
       "      <td>Australia</td>\n",
       "      <td>2024</td>\n",
       "      <td>Measles</td>\n",
       "      <td>Genetic</td>\n",
       "      <td>5.88</td>\n",
       "      <td>12.37</td>\n",
       "      <td>4.73</td>\n",
       "      <td>36-60</td>\n",
       "      <td>Other</td>\n",
       "      <td>767034</td>\n",
       "      <td>...</td>\n",
       "      <td>Surgery</td>\n",
       "      <td>33829</td>\n",
       "      <td>No</td>\n",
       "      <td>75.40</td>\n",
       "      <td>2921</td>\n",
       "      <td>7.85</td>\n",
       "      <td>50348</td>\n",
       "      <td>0.87</td>\n",
       "      <td>56.51</td>\n",
       "      <td>adults</td>\n",
       "    </tr>\n",
       "    <tr>\n",
       "      <th>79</th>\n",
       "      <td>Brazil</td>\n",
       "      <td>2024</td>\n",
       "      <td>Diabetes</td>\n",
       "      <td>Genetic</td>\n",
       "      <td>0.73</td>\n",
       "      <td>9.28</td>\n",
       "      <td>1.09</td>\n",
       "      <td>19-35</td>\n",
       "      <td>Male</td>\n",
       "      <td>4233</td>\n",
       "      <td>...</td>\n",
       "      <td>Therapy</td>\n",
       "      <td>2078</td>\n",
       "      <td>No</td>\n",
       "      <td>61.80</td>\n",
       "      <td>386</td>\n",
       "      <td>3.23</td>\n",
       "      <td>73287</td>\n",
       "      <td>0.74</td>\n",
       "      <td>25.44</td>\n",
       "      <td>young adults</td>\n",
       "    </tr>\n",
       "    <tr>\n",
       "      <th>109</th>\n",
       "      <td>Saudi Arabia</td>\n",
       "      <td>2024</td>\n",
       "      <td>Malaria</td>\n",
       "      <td>Chronic</td>\n",
       "      <td>13.40</td>\n",
       "      <td>11.44</td>\n",
       "      <td>9.59</td>\n",
       "      <td>61+</td>\n",
       "      <td>Other</td>\n",
       "      <td>259325</td>\n",
       "      <td>...</td>\n",
       "      <td>Surgery</td>\n",
       "      <td>14273</td>\n",
       "      <td>Yes</td>\n",
       "      <td>90.56</td>\n",
       "      <td>4937</td>\n",
       "      <td>7.20</td>\n",
       "      <td>78046</td>\n",
       "      <td>0.64</td>\n",
       "      <td>70.02</td>\n",
       "      <td>seniors</td>\n",
       "    </tr>\n",
       "  </tbody>\n",
       "</table>\n",
       "<p>5 rows × 23 columns</p>\n",
       "</div>"
      ],
      "text/plain": [
       "          Country  Year Disease Name Disease Category  Prevalence Rate (%)  \\\n",
       "15            USA  2024       Dengue            Viral                 1.82   \n",
       "54      Argentina  2024       Cancer        Parasitic                10.94   \n",
       "69      Australia  2024      Measles          Genetic                 5.88   \n",
       "79         Brazil  2024     Diabetes          Genetic                 0.73   \n",
       "109  Saudi Arabia  2024      Malaria          Chronic                13.40   \n",
       "\n",
       "     Incidence Rate (%)  Mortality Rate (%) Age Group  Gender  \\\n",
       "15                 2.98                7.01     36-60  Female   \n",
       "54                12.88                6.25       61+  Female   \n",
       "69                12.37                4.73     36-60   Other   \n",
       "79                 9.28                1.09     19-35    Male   \n",
       "109               11.44                9.59       61+   Other   \n",
       "\n",
       "     Population Affected  ...  Treatment Type  Average Treatment Cost (USD)  \\\n",
       "15                623844  ...      Medication                          4664   \n",
       "54                419192  ...      Medication                         16363   \n",
       "69                767034  ...         Surgery                         33829   \n",
       "79                  4233  ...         Therapy                          2078   \n",
       "109               259325  ...         Surgery                         14273   \n",
       "\n",
       "     Availability of Vaccines/Treatment Recovery Rate (%)  DALYs  \\\n",
       "15                                   No             87.75    484   \n",
       "54                                  Yes             72.52   1274   \n",
       "69                                   No             75.40   2921   \n",
       "79                                   No             61.80    386   \n",
       "109                                 Yes             90.56   4937   \n",
       "\n",
       "    Improvement in 5 Years (%)  Per Capita Income (USD)  Education Index  \\\n",
       "15                        8.11                    56179             0.63   \n",
       "54                        5.36                     9633             0.51   \n",
       "69                        7.85                    50348             0.87   \n",
       "79                        3.23                    73287             0.74   \n",
       "109                       7.20                    78046             0.64   \n",
       "\n",
       "     Urbanization Rate (%)  Age Group labels  \n",
       "15                   29.00            adults  \n",
       "54                   37.11           seniors  \n",
       "69                   56.51            adults  \n",
       "79                   25.44      young adults  \n",
       "109                  70.02           seniors  \n",
       "\n",
       "[5 rows x 23 columns]"
      ]
     },
     "execution_count": 11,
     "metadata": {},
     "output_type": "execute_result"
    }
   ],
   "source": [
    "df_24['Age Group labels'] = df_24['Age Group'].replace(\n",
    "{'0-18':'children and teens',\n",
    " '19-35':'young adults',\n",
    " '36-60':'adults',\n",
    " '61+':'seniors'})\n",
    "\n",
    "df_24.head()"
   ]
  },
  {
   "cell_type": "code",
   "execution_count": 12,
   "metadata": {},
   "outputs": [
    {
     "data": {
      "text/plain": [
       "array(['Dengue', 'Cancer', 'Measles', 'Diabetes', 'Malaria',\n",
       "       \"Parkinson's Disease\", 'Rabies', 'Hypertension', 'Zika', 'Leprosy',\n",
       "       'Tuberculosis', 'Influenza', 'HIV/AIDS', 'Polio', 'Hepatitis',\n",
       "       'COVID-19', \"Alzheimer's Disease\", 'Ebola', 'Cholera', 'Asthma'],\n",
       "      dtype=object)"
      ]
     },
     "execution_count": 12,
     "metadata": {},
     "output_type": "execute_result"
    }
   ],
   "source": [
    "df_24['Disease Name'].unique()"
   ]
  },
  {
   "cell_type": "markdown",
   "metadata": {},
   "source": [
    "Let's check the distribution of disease in each country"
   ]
  },
  {
   "cell_type": "code",
   "execution_count": 30,
   "metadata": {},
   "outputs": [
    {
     "data": {
      "application/vnd.plotly.v1+json": {
       "config": {
        "plotlyServerURL": "https://plot.ly"
       },
       "data": [
        {
         "alignmentgroup": "True",
         "bingroup": "x",
         "histfunc": "sum",
         "hovertemplate": "Disease Name=Alzheimer's Disease<br>Country=%{x}<br>sum of Count=%{y}<extra></extra>",
         "legendgroup": "Alzheimer's Disease",
         "marker": {
          "color": "#636efa",
          "pattern": {
           "shape": ""
          }
         },
         "name": "Alzheimer's Disease",
         "offsetgroup": "Alzheimer's Disease",
         "orientation": "v",
         "showlegend": true,
         "type": "histogram",
         "x": [
          "Argentina",
          "Australia",
          "Brazil",
          "Canada",
          "China",
          "France",
          "Germany",
          "India",
          "Indonesia",
          "Italy",
          "Japan",
          "Mexico",
          "Nigeria",
          "Russia",
          "Saudi Arabia",
          "South Africa",
          "South Korea",
          "Turkey",
          "UK",
          "USA"
         ],
         "xaxis": "x",
         "y": [
          101,
          106,
          98,
          101,
          114,
          106,
          84,
          95,
          103,
          125,
          93,
          112,
          94,
          99,
          129,
          93,
          103,
          95,
          115,
          99
         ],
         "yaxis": "y"
        },
        {
         "alignmentgroup": "True",
         "bingroup": "x",
         "histfunc": "sum",
         "hovertemplate": "Disease Name=Asthma<br>Country=%{x}<br>sum of Count=%{y}<extra></extra>",
         "legendgroup": "Asthma",
         "marker": {
          "color": "#EF553B",
          "pattern": {
           "shape": ""
          }
         },
         "name": "Asthma",
         "offsetgroup": "Asthma",
         "orientation": "v",
         "showlegend": true,
         "type": "histogram",
         "x": [
          "Argentina",
          "Australia",
          "Brazil",
          "Canada",
          "China",
          "France",
          "Germany",
          "India",
          "Indonesia",
          "Italy",
          "Japan",
          "Mexico",
          "Nigeria",
          "Russia",
          "Saudi Arabia",
          "South Africa",
          "South Korea",
          "Turkey",
          "UK",
          "USA"
         ],
         "xaxis": "x",
         "y": [
          122,
          117,
          102,
          108,
          115,
          98,
          105,
          99,
          86,
          107,
          98,
          99,
          103,
          85,
          88,
          91,
          110,
          88,
          106,
          98
         ],
         "yaxis": "y"
        },
        {
         "alignmentgroup": "True",
         "bingroup": "x",
         "histfunc": "sum",
         "hovertemplate": "Disease Name=COVID-19<br>Country=%{x}<br>sum of Count=%{y}<extra></extra>",
         "legendgroup": "COVID-19",
         "marker": {
          "color": "#00cc96",
          "pattern": {
           "shape": ""
          }
         },
         "name": "COVID-19",
         "offsetgroup": "COVID-19",
         "orientation": "v",
         "showlegend": true,
         "type": "histogram",
         "x": [
          "Argentina",
          "Australia",
          "Brazil",
          "Canada",
          "China",
          "France",
          "Germany",
          "India",
          "Indonesia",
          "Italy",
          "Japan",
          "Mexico",
          "Nigeria",
          "Russia",
          "Saudi Arabia",
          "South Africa",
          "South Korea",
          "Turkey",
          "UK",
          "USA"
         ],
         "xaxis": "x",
         "y": [
          114,
          105,
          98,
          104,
          102,
          106,
          107,
          66,
          100,
          108,
          96,
          98,
          114,
          108,
          107,
          98,
          140,
          92,
          121,
          108
         ],
         "yaxis": "y"
        },
        {
         "alignmentgroup": "True",
         "bingroup": "x",
         "histfunc": "sum",
         "hovertemplate": "Disease Name=Cancer<br>Country=%{x}<br>sum of Count=%{y}<extra></extra>",
         "legendgroup": "Cancer",
         "marker": {
          "color": "#ab63fa",
          "pattern": {
           "shape": ""
          }
         },
         "name": "Cancer",
         "offsetgroup": "Cancer",
         "orientation": "v",
         "showlegend": true,
         "type": "histogram",
         "x": [
          "Argentina",
          "Australia",
          "Brazil",
          "Canada",
          "China",
          "France",
          "Germany",
          "India",
          "Indonesia",
          "Italy",
          "Japan",
          "Mexico",
          "Nigeria",
          "Russia",
          "Saudi Arabia",
          "South Africa",
          "South Korea",
          "Turkey",
          "UK",
          "USA"
         ],
         "xaxis": "x",
         "y": [
          99,
          90,
          113,
          103,
          89,
          93,
          127,
          95,
          122,
          97,
          95,
          103,
          99,
          103,
          88,
          103,
          100,
          87,
          95,
          97
         ],
         "yaxis": "y"
        },
        {
         "alignmentgroup": "True",
         "bingroup": "x",
         "histfunc": "sum",
         "hovertemplate": "Disease Name=Cholera<br>Country=%{x}<br>sum of Count=%{y}<extra></extra>",
         "legendgroup": "Cholera",
         "marker": {
          "color": "#FFA15A",
          "pattern": {
           "shape": ""
          }
         },
         "name": "Cholera",
         "offsetgroup": "Cholera",
         "orientation": "v",
         "showlegend": true,
         "type": "histogram",
         "x": [
          "Argentina",
          "Australia",
          "Brazil",
          "Canada",
          "China",
          "France",
          "Germany",
          "India",
          "Indonesia",
          "Italy",
          "Japan",
          "Mexico",
          "Nigeria",
          "Russia",
          "Saudi Arabia",
          "South Africa",
          "South Korea",
          "Turkey",
          "UK",
          "USA"
         ],
         "xaxis": "x",
         "y": [
          82,
          126,
          112,
          105,
          120,
          76,
          104,
          97,
          95,
          108,
          92,
          101,
          97,
          104,
          108,
          120,
          106,
          100,
          105,
          130
         ],
         "yaxis": "y"
        },
        {
         "alignmentgroup": "True",
         "bingroup": "x",
         "histfunc": "sum",
         "hovertemplate": "Disease Name=Dengue<br>Country=%{x}<br>sum of Count=%{y}<extra></extra>",
         "legendgroup": "Dengue",
         "marker": {
          "color": "#19d3f3",
          "pattern": {
           "shape": ""
          }
         },
         "name": "Dengue",
         "offsetgroup": "Dengue",
         "orientation": "v",
         "showlegend": true,
         "type": "histogram",
         "x": [
          "Argentina",
          "Australia",
          "Brazil",
          "Canada",
          "China",
          "France",
          "Germany",
          "India",
          "Indonesia",
          "Italy",
          "Japan",
          "Mexico",
          "Nigeria",
          "Russia",
          "Saudi Arabia",
          "South Africa",
          "South Korea",
          "Turkey",
          "UK",
          "USA"
         ],
         "xaxis": "x",
         "y": [
          90,
          92,
          92,
          99,
          94,
          98,
          117,
          111,
          95,
          97,
          107,
          109,
          101,
          101,
          99,
          96,
          105,
          109,
          109,
          104
         ],
         "yaxis": "y"
        },
        {
         "alignmentgroup": "True",
         "bingroup": "x",
         "histfunc": "sum",
         "hovertemplate": "Disease Name=Diabetes<br>Country=%{x}<br>sum of Count=%{y}<extra></extra>",
         "legendgroup": "Diabetes",
         "marker": {
          "color": "#FF6692",
          "pattern": {
           "shape": ""
          }
         },
         "name": "Diabetes",
         "offsetgroup": "Diabetes",
         "orientation": "v",
         "showlegend": true,
         "type": "histogram",
         "x": [
          "Argentina",
          "Australia",
          "Brazil",
          "Canada",
          "China",
          "France",
          "Germany",
          "India",
          "Indonesia",
          "Italy",
          "Japan",
          "Mexico",
          "Nigeria",
          "Russia",
          "Saudi Arabia",
          "South Africa",
          "South Korea",
          "Turkey",
          "UK",
          "USA"
         ],
         "xaxis": "x",
         "y": [
          88,
          94,
          100,
          100,
          96,
          99,
          117,
          99,
          90,
          106,
          92,
          89,
          99,
          96,
          96,
          101,
          108,
          94,
          85,
          91
         ],
         "yaxis": "y"
        },
        {
         "alignmentgroup": "True",
         "bingroup": "x",
         "histfunc": "sum",
         "hovertemplate": "Disease Name=Ebola<br>Country=%{x}<br>sum of Count=%{y}<extra></extra>",
         "legendgroup": "Ebola",
         "marker": {
          "color": "#B6E880",
          "pattern": {
           "shape": ""
          }
         },
         "name": "Ebola",
         "offsetgroup": "Ebola",
         "orientation": "v",
         "showlegend": true,
         "type": "histogram",
         "x": [
          "Argentina",
          "Australia",
          "Brazil",
          "Canada",
          "China",
          "France",
          "Germany",
          "India",
          "Indonesia",
          "Italy",
          "Japan",
          "Mexico",
          "Nigeria",
          "Russia",
          "Saudi Arabia",
          "South Africa",
          "South Korea",
          "Turkey",
          "UK",
          "USA"
         ],
         "xaxis": "x",
         "y": [
          81,
          109,
          90,
          99,
          102,
          107,
          109,
          106,
          84,
          100,
          99,
          96,
          113,
          115,
          99,
          95,
          109,
          95,
          97,
          89
         ],
         "yaxis": "y"
        },
        {
         "alignmentgroup": "True",
         "bingroup": "x",
         "histfunc": "sum",
         "hovertemplate": "Disease Name=HIV/AIDS<br>Country=%{x}<br>sum of Count=%{y}<extra></extra>",
         "legendgroup": "HIV/AIDS",
         "marker": {
          "color": "#FF97FF",
          "pattern": {
           "shape": ""
          }
         },
         "name": "HIV/AIDS",
         "offsetgroup": "HIV/AIDS",
         "orientation": "v",
         "showlegend": true,
         "type": "histogram",
         "x": [
          "Argentina",
          "Australia",
          "Brazil",
          "Canada",
          "China",
          "France",
          "Germany",
          "India",
          "Indonesia",
          "Italy",
          "Japan",
          "Mexico",
          "Nigeria",
          "Russia",
          "Saudi Arabia",
          "South Africa",
          "South Korea",
          "Turkey",
          "UK",
          "USA"
         ],
         "xaxis": "x",
         "y": [
          117,
          91,
          96,
          110,
          99,
          103,
          118,
          94,
          108,
          104,
          93,
          108,
          96,
          110,
          95,
          101,
          96,
          90,
          102,
          85
         ],
         "yaxis": "y"
        },
        {
         "alignmentgroup": "True",
         "bingroup": "x",
         "histfunc": "sum",
         "hovertemplate": "Disease Name=Hepatitis<br>Country=%{x}<br>sum of Count=%{y}<extra></extra>",
         "legendgroup": "Hepatitis",
         "marker": {
          "color": "#FECB52",
          "pattern": {
           "shape": ""
          }
         },
         "name": "Hepatitis",
         "offsetgroup": "Hepatitis",
         "orientation": "v",
         "showlegend": true,
         "type": "histogram",
         "x": [
          "Argentina",
          "Australia",
          "Brazil",
          "Canada",
          "China",
          "France",
          "Germany",
          "India",
          "Indonesia",
          "Italy",
          "Japan",
          "Mexico",
          "Nigeria",
          "Russia",
          "Saudi Arabia",
          "South Africa",
          "South Korea",
          "Turkey",
          "UK",
          "USA"
         ],
         "xaxis": "x",
         "y": [
          96,
          119,
          83,
          86,
          103,
          114,
          102,
          103,
          96,
          106,
          91,
          122,
          87,
          121,
          114,
          92,
          102,
          104,
          98,
          98
         ],
         "yaxis": "y"
        },
        {
         "alignmentgroup": "True",
         "bingroup": "x",
         "histfunc": "sum",
         "hovertemplate": "Disease Name=Hypertension<br>Country=%{x}<br>sum of Count=%{y}<extra></extra>",
         "legendgroup": "Hypertension",
         "marker": {
          "color": "#636efa",
          "pattern": {
           "shape": ""
          }
         },
         "name": "Hypertension",
         "offsetgroup": "Hypertension",
         "orientation": "v",
         "showlegend": true,
         "type": "histogram",
         "x": [
          "Argentina",
          "Australia",
          "Brazil",
          "Canada",
          "China",
          "France",
          "Germany",
          "India",
          "Indonesia",
          "Italy",
          "Japan",
          "Mexico",
          "Nigeria",
          "Russia",
          "Saudi Arabia",
          "South Africa",
          "South Korea",
          "Turkey",
          "UK",
          "USA"
         ],
         "xaxis": "x",
         "y": [
          99,
          92,
          94,
          98,
          88,
          97,
          94,
          93,
          95,
          87,
          79,
          102,
          113,
          110,
          113,
          104,
          100,
          103,
          88,
          93
         ],
         "yaxis": "y"
        },
        {
         "alignmentgroup": "True",
         "bingroup": "x",
         "histfunc": "sum",
         "hovertemplate": "Disease Name=Influenza<br>Country=%{x}<br>sum of Count=%{y}<extra></extra>",
         "legendgroup": "Influenza",
         "marker": {
          "color": "#EF553B",
          "pattern": {
           "shape": ""
          }
         },
         "name": "Influenza",
         "offsetgroup": "Influenza",
         "orientation": "v",
         "showlegend": true,
         "type": "histogram",
         "x": [
          "Argentina",
          "Australia",
          "Brazil",
          "Canada",
          "China",
          "France",
          "Germany",
          "India",
          "Indonesia",
          "Italy",
          "Japan",
          "Mexico",
          "Nigeria",
          "Russia",
          "Saudi Arabia",
          "South Africa",
          "South Korea",
          "Turkey",
          "UK",
          "USA"
         ],
         "xaxis": "x",
         "y": [
          101,
          107,
          93,
          102,
          116,
          86,
          103,
          108,
          87,
          83,
          120,
          101,
          90,
          100,
          122,
          116,
          98,
          105,
          100,
          90
         ],
         "yaxis": "y"
        },
        {
         "alignmentgroup": "True",
         "bingroup": "x",
         "histfunc": "sum",
         "hovertemplate": "Disease Name=Leprosy<br>Country=%{x}<br>sum of Count=%{y}<extra></extra>",
         "legendgroup": "Leprosy",
         "marker": {
          "color": "#00cc96",
          "pattern": {
           "shape": ""
          }
         },
         "name": "Leprosy",
         "offsetgroup": "Leprosy",
         "orientation": "v",
         "showlegend": true,
         "type": "histogram",
         "x": [
          "Argentina",
          "Australia",
          "Brazil",
          "Canada",
          "China",
          "France",
          "Germany",
          "India",
          "Indonesia",
          "Italy",
          "Japan",
          "Mexico",
          "Nigeria",
          "Russia",
          "Saudi Arabia",
          "South Africa",
          "South Korea",
          "Turkey",
          "UK",
          "USA"
         ],
         "xaxis": "x",
         "y": [
          88,
          87,
          101,
          96,
          120,
          85,
          115,
          113,
          98,
          107,
          90,
          92,
          116,
          96,
          110,
          85,
          99,
          93,
          77,
          97
         ],
         "yaxis": "y"
        },
        {
         "alignmentgroup": "True",
         "bingroup": "x",
         "histfunc": "sum",
         "hovertemplate": "Disease Name=Malaria<br>Country=%{x}<br>sum of Count=%{y}<extra></extra>",
         "legendgroup": "Malaria",
         "marker": {
          "color": "#ab63fa",
          "pattern": {
           "shape": ""
          }
         },
         "name": "Malaria",
         "offsetgroup": "Malaria",
         "orientation": "v",
         "showlegend": true,
         "type": "histogram",
         "x": [
          "Argentina",
          "Australia",
          "Brazil",
          "Canada",
          "China",
          "France",
          "Germany",
          "India",
          "Indonesia",
          "Italy",
          "Japan",
          "Mexico",
          "Nigeria",
          "Russia",
          "Saudi Arabia",
          "South Africa",
          "South Korea",
          "Turkey",
          "UK",
          "USA"
         ],
         "xaxis": "x",
         "y": [
          110,
          95,
          106,
          89,
          101,
          96,
          101,
          100,
          106,
          94,
          92,
          110,
          88,
          111,
          89,
          108,
          98,
          81,
          105,
          94
         ],
         "yaxis": "y"
        },
        {
         "alignmentgroup": "True",
         "bingroup": "x",
         "histfunc": "sum",
         "hovertemplate": "Disease Name=Measles<br>Country=%{x}<br>sum of Count=%{y}<extra></extra>",
         "legendgroup": "Measles",
         "marker": {
          "color": "#FFA15A",
          "pattern": {
           "shape": ""
          }
         },
         "name": "Measles",
         "offsetgroup": "Measles",
         "orientation": "v",
         "showlegend": true,
         "type": "histogram",
         "x": [
          "Argentina",
          "Australia",
          "Brazil",
          "Canada",
          "China",
          "France",
          "Germany",
          "India",
          "Indonesia",
          "Italy",
          "Japan",
          "Mexico",
          "Nigeria",
          "Russia",
          "Saudi Arabia",
          "South Africa",
          "South Korea",
          "Turkey",
          "UK",
          "USA"
         ],
         "xaxis": "x",
         "y": [
          112,
          90,
          88,
          99,
          90,
          92,
          90,
          93,
          98,
          112,
          102,
          97,
          106,
          93,
          104,
          98,
          91,
          116,
          107,
          106
         ],
         "yaxis": "y"
        },
        {
         "alignmentgroup": "True",
         "bingroup": "x",
         "histfunc": "sum",
         "hovertemplate": "Disease Name=Parkinson's Disease<br>Country=%{x}<br>sum of Count=%{y}<extra></extra>",
         "legendgroup": "Parkinson's Disease",
         "marker": {
          "color": "#19d3f3",
          "pattern": {
           "shape": ""
          }
         },
         "name": "Parkinson's Disease",
         "offsetgroup": "Parkinson's Disease",
         "orientation": "v",
         "showlegend": true,
         "type": "histogram",
         "x": [
          "Argentina",
          "Australia",
          "Brazil",
          "Canada",
          "China",
          "France",
          "Germany",
          "India",
          "Indonesia",
          "Italy",
          "Japan",
          "Mexico",
          "Nigeria",
          "Russia",
          "Saudi Arabia",
          "South Africa",
          "South Korea",
          "Turkey",
          "UK",
          "USA"
         ],
         "xaxis": "x",
         "y": [
          96,
          104,
          114,
          89,
          100,
          81,
          103,
          95,
          93,
          95,
          99,
          120,
          110,
          96,
          107,
          84,
          95,
          98,
          98,
          99
         ],
         "yaxis": "y"
        },
        {
         "alignmentgroup": "True",
         "bingroup": "x",
         "histfunc": "sum",
         "hovertemplate": "Disease Name=Polio<br>Country=%{x}<br>sum of Count=%{y}<extra></extra>",
         "legendgroup": "Polio",
         "marker": {
          "color": "#FF6692",
          "pattern": {
           "shape": ""
          }
         },
         "name": "Polio",
         "offsetgroup": "Polio",
         "orientation": "v",
         "showlegend": true,
         "type": "histogram",
         "x": [
          "Argentina",
          "Australia",
          "Brazil",
          "Canada",
          "China",
          "France",
          "Germany",
          "India",
          "Indonesia",
          "Italy",
          "Japan",
          "Mexico",
          "Nigeria",
          "Russia",
          "Saudi Arabia",
          "South Africa",
          "South Korea",
          "Turkey",
          "UK",
          "USA"
         ],
         "xaxis": "x",
         "y": [
          114,
          102,
          91,
          109,
          83,
          102,
          95,
          116,
          87,
          119,
          94,
          103,
          90,
          104,
          96,
          112,
          104,
          96,
          95,
          100
         ],
         "yaxis": "y"
        },
        {
         "alignmentgroup": "True",
         "bingroup": "x",
         "histfunc": "sum",
         "hovertemplate": "Disease Name=Rabies<br>Country=%{x}<br>sum of Count=%{y}<extra></extra>",
         "legendgroup": "Rabies",
         "marker": {
          "color": "#B6E880",
          "pattern": {
           "shape": ""
          }
         },
         "name": "Rabies",
         "offsetgroup": "Rabies",
         "orientation": "v",
         "showlegend": true,
         "type": "histogram",
         "x": [
          "Argentina",
          "Australia",
          "Brazil",
          "Canada",
          "China",
          "France",
          "Germany",
          "India",
          "Indonesia",
          "Italy",
          "Japan",
          "Mexico",
          "Nigeria",
          "Russia",
          "Saudi Arabia",
          "South Africa",
          "South Korea",
          "Turkey",
          "UK",
          "USA"
         ],
         "xaxis": "x",
         "y": [
          85,
          108,
          102,
          80,
          102,
          110,
          91,
          97,
          75,
          105,
          96,
          111,
          103,
          85,
          106,
          98,
          84,
          106,
          99,
          106
         ],
         "yaxis": "y"
        },
        {
         "alignmentgroup": "True",
         "bingroup": "x",
         "histfunc": "sum",
         "hovertemplate": "Disease Name=Tuberculosis<br>Country=%{x}<br>sum of Count=%{y}<extra></extra>",
         "legendgroup": "Tuberculosis",
         "marker": {
          "color": "#FF97FF",
          "pattern": {
           "shape": ""
          }
         },
         "name": "Tuberculosis",
         "offsetgroup": "Tuberculosis",
         "orientation": "v",
         "showlegend": true,
         "type": "histogram",
         "x": [
          "Argentina",
          "Australia",
          "Brazil",
          "Canada",
          "China",
          "France",
          "Germany",
          "India",
          "Indonesia",
          "Italy",
          "Japan",
          "Mexico",
          "Nigeria",
          "Russia",
          "Saudi Arabia",
          "South Africa",
          "South Korea",
          "Turkey",
          "UK",
          "USA"
         ],
         "xaxis": "x",
         "y": [
          88,
          103,
          91,
          92,
          97,
          82,
          115,
          104,
          91,
          83,
          109,
          97,
          82,
          103,
          99,
          106,
          96,
          89,
          90,
          90
         ],
         "yaxis": "y"
        },
        {
         "alignmentgroup": "True",
         "bingroup": "x",
         "histfunc": "sum",
         "hovertemplate": "Disease Name=Zika<br>Country=%{x}<br>sum of Count=%{y}<extra></extra>",
         "legendgroup": "Zika",
         "marker": {
          "color": "#FECB52",
          "pattern": {
           "shape": ""
          }
         },
         "name": "Zika",
         "offsetgroup": "Zika",
         "orientation": "v",
         "showlegend": true,
         "type": "histogram",
         "x": [
          "Argentina",
          "Australia",
          "Brazil",
          "Canada",
          "China",
          "France",
          "Germany",
          "India",
          "Indonesia",
          "Italy",
          "Japan",
          "Mexico",
          "Nigeria",
          "Russia",
          "Saudi Arabia",
          "South Africa",
          "South Korea",
          "Turkey",
          "UK",
          "USA"
         ],
         "xaxis": "x",
         "y": [
          94,
          95,
          110,
          98,
          94,
          96,
          109,
          102,
          108,
          98,
          90,
          100,
          84,
          100,
          103,
          96,
          88,
          107,
          111,
          103
         ],
         "yaxis": "y"
        }
       ],
       "layout": {
        "barmode": "group",
        "legend": {
         "itemsizing": "constant",
         "title": {
          "text": "Country"
         },
         "tracegroupgap": 0
        },
        "margin": {
         "t": 60
        },
        "template": {
         "data": {
          "bar": [
           {
            "error_x": {
             "color": "#f2f5fa"
            },
            "error_y": {
             "color": "#f2f5fa"
            },
            "marker": {
             "line": {
              "color": "rgb(17,17,17)",
              "width": 0.5
             },
             "pattern": {
              "fillmode": "overlay",
              "size": 10,
              "solidity": 0.2
             }
            },
            "type": "bar"
           }
          ],
          "barpolar": [
           {
            "marker": {
             "line": {
              "color": "rgb(17,17,17)",
              "width": 0.5
             },
             "pattern": {
              "fillmode": "overlay",
              "size": 10,
              "solidity": 0.2
             }
            },
            "type": "barpolar"
           }
          ],
          "carpet": [
           {
            "aaxis": {
             "endlinecolor": "#A2B1C6",
             "gridcolor": "#506784",
             "linecolor": "#506784",
             "minorgridcolor": "#506784",
             "startlinecolor": "#A2B1C6"
            },
            "baxis": {
             "endlinecolor": "#A2B1C6",
             "gridcolor": "#506784",
             "linecolor": "#506784",
             "minorgridcolor": "#506784",
             "startlinecolor": "#A2B1C6"
            },
            "type": "carpet"
           }
          ],
          "choropleth": [
           {
            "colorbar": {
             "outlinewidth": 0,
             "ticks": ""
            },
            "type": "choropleth"
           }
          ],
          "contour": [
           {
            "colorbar": {
             "outlinewidth": 0,
             "ticks": ""
            },
            "colorscale": [
             [
              0,
              "#0d0887"
             ],
             [
              0.1111111111111111,
              "#46039f"
             ],
             [
              0.2222222222222222,
              "#7201a8"
             ],
             [
              0.3333333333333333,
              "#9c179e"
             ],
             [
              0.4444444444444444,
              "#bd3786"
             ],
             [
              0.5555555555555556,
              "#d8576b"
             ],
             [
              0.6666666666666666,
              "#ed7953"
             ],
             [
              0.7777777777777778,
              "#fb9f3a"
             ],
             [
              0.8888888888888888,
              "#fdca26"
             ],
             [
              1,
              "#f0f921"
             ]
            ],
            "type": "contour"
           }
          ],
          "contourcarpet": [
           {
            "colorbar": {
             "outlinewidth": 0,
             "ticks": ""
            },
            "type": "contourcarpet"
           }
          ],
          "heatmap": [
           {
            "colorbar": {
             "outlinewidth": 0,
             "ticks": ""
            },
            "colorscale": [
             [
              0,
              "#0d0887"
             ],
             [
              0.1111111111111111,
              "#46039f"
             ],
             [
              0.2222222222222222,
              "#7201a8"
             ],
             [
              0.3333333333333333,
              "#9c179e"
             ],
             [
              0.4444444444444444,
              "#bd3786"
             ],
             [
              0.5555555555555556,
              "#d8576b"
             ],
             [
              0.6666666666666666,
              "#ed7953"
             ],
             [
              0.7777777777777778,
              "#fb9f3a"
             ],
             [
              0.8888888888888888,
              "#fdca26"
             ],
             [
              1,
              "#f0f921"
             ]
            ],
            "type": "heatmap"
           }
          ],
          "heatmapgl": [
           {
            "colorbar": {
             "outlinewidth": 0,
             "ticks": ""
            },
            "colorscale": [
             [
              0,
              "#0d0887"
             ],
             [
              0.1111111111111111,
              "#46039f"
             ],
             [
              0.2222222222222222,
              "#7201a8"
             ],
             [
              0.3333333333333333,
              "#9c179e"
             ],
             [
              0.4444444444444444,
              "#bd3786"
             ],
             [
              0.5555555555555556,
              "#d8576b"
             ],
             [
              0.6666666666666666,
              "#ed7953"
             ],
             [
              0.7777777777777778,
              "#fb9f3a"
             ],
             [
              0.8888888888888888,
              "#fdca26"
             ],
             [
              1,
              "#f0f921"
             ]
            ],
            "type": "heatmapgl"
           }
          ],
          "histogram": [
           {
            "marker": {
             "pattern": {
              "fillmode": "overlay",
              "size": 10,
              "solidity": 0.2
             }
            },
            "type": "histogram"
           }
          ],
          "histogram2d": [
           {
            "colorbar": {
             "outlinewidth": 0,
             "ticks": ""
            },
            "colorscale": [
             [
              0,
              "#0d0887"
             ],
             [
              0.1111111111111111,
              "#46039f"
             ],
             [
              0.2222222222222222,
              "#7201a8"
             ],
             [
              0.3333333333333333,
              "#9c179e"
             ],
             [
              0.4444444444444444,
              "#bd3786"
             ],
             [
              0.5555555555555556,
              "#d8576b"
             ],
             [
              0.6666666666666666,
              "#ed7953"
             ],
             [
              0.7777777777777778,
              "#fb9f3a"
             ],
             [
              0.8888888888888888,
              "#fdca26"
             ],
             [
              1,
              "#f0f921"
             ]
            ],
            "type": "histogram2d"
           }
          ],
          "histogram2dcontour": [
           {
            "colorbar": {
             "outlinewidth": 0,
             "ticks": ""
            },
            "colorscale": [
             [
              0,
              "#0d0887"
             ],
             [
              0.1111111111111111,
              "#46039f"
             ],
             [
              0.2222222222222222,
              "#7201a8"
             ],
             [
              0.3333333333333333,
              "#9c179e"
             ],
             [
              0.4444444444444444,
              "#bd3786"
             ],
             [
              0.5555555555555556,
              "#d8576b"
             ],
             [
              0.6666666666666666,
              "#ed7953"
             ],
             [
              0.7777777777777778,
              "#fb9f3a"
             ],
             [
              0.8888888888888888,
              "#fdca26"
             ],
             [
              1,
              "#f0f921"
             ]
            ],
            "type": "histogram2dcontour"
           }
          ],
          "mesh3d": [
           {
            "colorbar": {
             "outlinewidth": 0,
             "ticks": ""
            },
            "type": "mesh3d"
           }
          ],
          "parcoords": [
           {
            "line": {
             "colorbar": {
              "outlinewidth": 0,
              "ticks": ""
             }
            },
            "type": "parcoords"
           }
          ],
          "pie": [
           {
            "automargin": true,
            "type": "pie"
           }
          ],
          "scatter": [
           {
            "marker": {
             "line": {
              "color": "#283442"
             }
            },
            "type": "scatter"
           }
          ],
          "scatter3d": [
           {
            "line": {
             "colorbar": {
              "outlinewidth": 0,
              "ticks": ""
             }
            },
            "marker": {
             "colorbar": {
              "outlinewidth": 0,
              "ticks": ""
             }
            },
            "type": "scatter3d"
           }
          ],
          "scattercarpet": [
           {
            "marker": {
             "colorbar": {
              "outlinewidth": 0,
              "ticks": ""
             }
            },
            "type": "scattercarpet"
           }
          ],
          "scattergeo": [
           {
            "marker": {
             "colorbar": {
              "outlinewidth": 0,
              "ticks": ""
             }
            },
            "type": "scattergeo"
           }
          ],
          "scattergl": [
           {
            "marker": {
             "line": {
              "color": "#283442"
             }
            },
            "type": "scattergl"
           }
          ],
          "scattermapbox": [
           {
            "marker": {
             "colorbar": {
              "outlinewidth": 0,
              "ticks": ""
             }
            },
            "type": "scattermapbox"
           }
          ],
          "scatterpolar": [
           {
            "marker": {
             "colorbar": {
              "outlinewidth": 0,
              "ticks": ""
             }
            },
            "type": "scatterpolar"
           }
          ],
          "scatterpolargl": [
           {
            "marker": {
             "colorbar": {
              "outlinewidth": 0,
              "ticks": ""
             }
            },
            "type": "scatterpolargl"
           }
          ],
          "scatterternary": [
           {
            "marker": {
             "colorbar": {
              "outlinewidth": 0,
              "ticks": ""
             }
            },
            "type": "scatterternary"
           }
          ],
          "surface": [
           {
            "colorbar": {
             "outlinewidth": 0,
             "ticks": ""
            },
            "colorscale": [
             [
              0,
              "#0d0887"
             ],
             [
              0.1111111111111111,
              "#46039f"
             ],
             [
              0.2222222222222222,
              "#7201a8"
             ],
             [
              0.3333333333333333,
              "#9c179e"
             ],
             [
              0.4444444444444444,
              "#bd3786"
             ],
             [
              0.5555555555555556,
              "#d8576b"
             ],
             [
              0.6666666666666666,
              "#ed7953"
             ],
             [
              0.7777777777777778,
              "#fb9f3a"
             ],
             [
              0.8888888888888888,
              "#fdca26"
             ],
             [
              1,
              "#f0f921"
             ]
            ],
            "type": "surface"
           }
          ],
          "table": [
           {
            "cells": {
             "fill": {
              "color": "#506784"
             },
             "line": {
              "color": "rgb(17,17,17)"
             }
            },
            "header": {
             "fill": {
              "color": "#2a3f5f"
             },
             "line": {
              "color": "rgb(17,17,17)"
             }
            },
            "type": "table"
           }
          ]
         },
         "layout": {
          "annotationdefaults": {
           "arrowcolor": "#f2f5fa",
           "arrowhead": 0,
           "arrowwidth": 1
          },
          "autotypenumbers": "strict",
          "coloraxis": {
           "colorbar": {
            "outlinewidth": 0,
            "ticks": ""
           }
          },
          "colorscale": {
           "diverging": [
            [
             0,
             "#8e0152"
            ],
            [
             0.1,
             "#c51b7d"
            ],
            [
             0.2,
             "#de77ae"
            ],
            [
             0.3,
             "#f1b6da"
            ],
            [
             0.4,
             "#fde0ef"
            ],
            [
             0.5,
             "#f7f7f7"
            ],
            [
             0.6,
             "#e6f5d0"
            ],
            [
             0.7,
             "#b8e186"
            ],
            [
             0.8,
             "#7fbc41"
            ],
            [
             0.9,
             "#4d9221"
            ],
            [
             1,
             "#276419"
            ]
           ],
           "sequential": [
            [
             0,
             "#0d0887"
            ],
            [
             0.1111111111111111,
             "#46039f"
            ],
            [
             0.2222222222222222,
             "#7201a8"
            ],
            [
             0.3333333333333333,
             "#9c179e"
            ],
            [
             0.4444444444444444,
             "#bd3786"
            ],
            [
             0.5555555555555556,
             "#d8576b"
            ],
            [
             0.6666666666666666,
             "#ed7953"
            ],
            [
             0.7777777777777778,
             "#fb9f3a"
            ],
            [
             0.8888888888888888,
             "#fdca26"
            ],
            [
             1,
             "#f0f921"
            ]
           ],
           "sequentialminus": [
            [
             0,
             "#0d0887"
            ],
            [
             0.1111111111111111,
             "#46039f"
            ],
            [
             0.2222222222222222,
             "#7201a8"
            ],
            [
             0.3333333333333333,
             "#9c179e"
            ],
            [
             0.4444444444444444,
             "#bd3786"
            ],
            [
             0.5555555555555556,
             "#d8576b"
            ],
            [
             0.6666666666666666,
             "#ed7953"
            ],
            [
             0.7777777777777778,
             "#fb9f3a"
            ],
            [
             0.8888888888888888,
             "#fdca26"
            ],
            [
             1,
             "#f0f921"
            ]
           ]
          },
          "colorway": [
           "#636efa",
           "#EF553B",
           "#00cc96",
           "#ab63fa",
           "#FFA15A",
           "#19d3f3",
           "#FF6692",
           "#B6E880",
           "#FF97FF",
           "#FECB52"
          ],
          "font": {
           "color": "#f2f5fa"
          },
          "geo": {
           "bgcolor": "rgb(17,17,17)",
           "lakecolor": "rgb(17,17,17)",
           "landcolor": "rgb(17,17,17)",
           "showlakes": true,
           "showland": true,
           "subunitcolor": "#506784"
          },
          "hoverlabel": {
           "align": "left"
          },
          "hovermode": "closest",
          "mapbox": {
           "style": "dark"
          },
          "paper_bgcolor": "rgb(17,17,17)",
          "plot_bgcolor": "rgb(17,17,17)",
          "polar": {
           "angularaxis": {
            "gridcolor": "#506784",
            "linecolor": "#506784",
            "ticks": ""
           },
           "bgcolor": "rgb(17,17,17)",
           "radialaxis": {
            "gridcolor": "#506784",
            "linecolor": "#506784",
            "ticks": ""
           }
          },
          "scene": {
           "xaxis": {
            "backgroundcolor": "rgb(17,17,17)",
            "gridcolor": "#506784",
            "gridwidth": 2,
            "linecolor": "#506784",
            "showbackground": true,
            "ticks": "",
            "zerolinecolor": "#C8D4E3"
           },
           "yaxis": {
            "backgroundcolor": "rgb(17,17,17)",
            "gridcolor": "#506784",
            "gridwidth": 2,
            "linecolor": "#506784",
            "showbackground": true,
            "ticks": "",
            "zerolinecolor": "#C8D4E3"
           },
           "zaxis": {
            "backgroundcolor": "rgb(17,17,17)",
            "gridcolor": "#506784",
            "gridwidth": 2,
            "linecolor": "#506784",
            "showbackground": true,
            "ticks": "",
            "zerolinecolor": "#C8D4E3"
           }
          },
          "shapedefaults": {
           "line": {
            "color": "#f2f5fa"
           }
          },
          "sliderdefaults": {
           "bgcolor": "#C8D4E3",
           "bordercolor": "rgb(17,17,17)",
           "borderwidth": 1,
           "tickwidth": 0
          },
          "ternary": {
           "aaxis": {
            "gridcolor": "#506784",
            "linecolor": "#506784",
            "ticks": ""
           },
           "baxis": {
            "gridcolor": "#506784",
            "linecolor": "#506784",
            "ticks": ""
           },
           "bgcolor": "rgb(17,17,17)",
           "caxis": {
            "gridcolor": "#506784",
            "linecolor": "#506784",
            "ticks": ""
           }
          },
          "title": {
           "x": 0.05
          },
          "updatemenudefaults": {
           "bgcolor": "#506784",
           "borderwidth": 0
          },
          "xaxis": {
           "automargin": true,
           "gridcolor": "#283442",
           "linecolor": "#506784",
           "ticks": "",
           "title": {
            "standoff": 15
           },
           "zerolinecolor": "#283442",
           "zerolinewidth": 2
          },
          "yaxis": {
           "automargin": true,
           "gridcolor": "#283442",
           "linecolor": "#506784",
           "ticks": "",
           "title": {
            "standoff": 15
           },
           "zerolinecolor": "#283442",
           "zerolinewidth": 2
          }
         }
        },
        "xaxis": {
         "anchor": "y",
         "domain": [
          0,
          1
         ],
         "title": {
          "text": "Country"
         }
        },
        "yaxis": {
         "anchor": "x",
         "domain": [
          0,
          1
         ],
         "title": {
          "text": "sum of Count"
         }
        }
       }
      }
     },
     "metadata": {},
     "output_type": "display_data"
    }
   ],
   "source": [
    "\n",
    "df_counts = df_24.groupby(['Country', 'Disease Name']).size().reset_index(name='Count')\n",
    "\n",
    "fig = px.histogram(df_counts, x=\"Country\", y=\"Count\", color=\"Disease Name\", barmode='group')\n",
    "\n",
    "fig.update_layout(\n",
    "    legend_title_text='Country',\n",
    "    legend=dict(\n",
    "        title=dict(text='Country'),\n",
    "        itemsizing='constant'\n",
    "    )\n",
    ")\n",
    "\n",
    "fig.show()\n"
   ]
  },
  {
   "cell_type": "code",
   "execution_count": null,
   "metadata": {},
   "outputs": [],
   "source": []
  }
 ],
 "metadata": {
  "kernelspec": {
   "display_name": "Myenv",
   "language": "python",
   "name": "python3"
  },
  "language_info": {
   "codemirror_mode": {
    "name": "ipython",
    "version": 3
   },
   "file_extension": ".py",
   "mimetype": "text/x-python",
   "name": "python",
   "nbconvert_exporter": "python",
   "pygments_lexer": "ipython3",
   "version": "3.13.0"
  }
 },
 "nbformat": 4,
 "nbformat_minor": 2
}
